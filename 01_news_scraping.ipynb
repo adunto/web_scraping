{
 "cells": [
  {
   "cell_type": "markdown",
   "id": "4486b011",
   "metadata": {},
   "source": [
    " \n",
    " # 질문:  아래의 url에서 뉴스기사의 링크와 제목을 출력하세요.\n",
    "    다음 경제 뉴스 URL\n",
    "    ## url = 'https://news.daum.net/economy'\n",
    "\n",
    "    파일명: 01_news_scraping.ipynb"
   ]
  },
  {
   "cell_type": "code",
   "execution_count": 1,
   "id": "0284e166",
   "metadata": {},
   "outputs": [],
   "source": [
    "import requests\n",
    "from bs4 import BeautifulSoup"
   ]
  },
  {
   "cell_type": "code",
   "execution_count": 28,
   "id": "2e08da7d",
   "metadata": {},
   "outputs": [
    {
     "name": "stdout",
     "output_type": "stream",
     "text": [
      "요청 URL : https://news.daum.net/economy\n",
      "타입 : <class 'requests.models.Response'>\n",
      "상태 코드 : 200\n",
      "https://v.daum.net/v/20250408131308924\n",
      "尹정부 '건전재정' 공언에도 작년 나라살림 적자 100조원 돌파\n",
      "\n",
      "https://v.daum.net/v/20250408124446384\n",
      "불평등 부채질하는 재난: 환경부는 약자 비명 듣고 있나요?\n",
      "\n",
      "https://v.daum.net/v/20250408121010759\n",
      "\"아무도 대신 챙겨주지 않습니다\" 퇴직금으론 부족한 은퇴 후 삶 \"개인 연금 중요\"\n",
      "\n",
      "https://v.daum.net/v/20250408120953746\n",
      "윤석열정부 공공기관장 절반, 총선 이후 임명(종합)\n",
      "\n",
      "https://v.daum.net/v/20250408120454629\n",
      "정년 연장에 '청년 고통'…취준생 일자리 11만개 사라졌다\n",
      "\n",
      "https://v.daum.net/v/20250408120010314\n",
      "한은 \"정년연장? 퇴직 후 재고용!\"…소득공백기 179만원 더 번다\n",
      "\n",
      "https://v.daum.net/v/20250408120000281\n",
      "지자체 대부업 자본금 요건 상향…개인 1억·법인 3억원으로\n",
      "\n",
      "https://v.daum.net/v/20250408113412211\n",
      "트럼프 때문에 '공동 묘지' 된 금융시장, 투자 전문가 \"뉴스 보지 말라\" 왜?\n",
      "\n",
      "https://v.daum.net/v/20250408111800386\n",
      "한국 GDP 성장 기여도 95% 달하는 수출에 직격탄 [관세전쟁 후폭풍]\n",
      "\n"
     ]
    }
   ],
   "source": [
    "r = requests.get('https://news.daum.net/economy')\n",
    "# 한글 깨짐 encoding 설정\n",
    "r.encoding = 'utf-8'\n",
    "\n",
    "print(\"요청 URL : \" + r.url)\n",
    "print(\"타입 : \" + str(type(r)))\n",
    "print(\"상태 코드 : \" + str(r.status_code))\n",
    "\n",
    "soup = BeautifulSoup(r.text, 'html.parser')\n",
    "\n",
    "sa_links = soup.select('.item_newsheadline2')\n",
    "\n",
    "sa_links_text = [link.get('href') for link in sa_links]\n",
    "\n",
    "\n",
    "sa_titles = soup.select('.item_newsheadline2 > .cont_thumb > strong')\n",
    "\n",
    "sa_titles_text = [title.get_text() for title in sa_titles]\n",
    "\n",
    "sa_combined = list(zip(sa_titles_text, sa_links_text))\n",
    "for title, link in sa_combined:\n",
    "    print(f\"{link}\\n{title}\\n\")"
   ]
  },
  {
   "cell_type": "code",
   "execution_count": null,
   "id": "13d5d0ef",
   "metadata": {},
   "outputs": [],
   "source": []
  }
 ],
 "metadata": {
  "kernelspec": {
   "display_name": "test",
   "language": "python",
   "name": "python3"
  },
  "language_info": {
   "codemirror_mode": {
    "name": "ipython",
    "version": 3
   },
   "file_extension": ".py",
   "mimetype": "text/x-python",
   "name": "python",
   "nbconvert_exporter": "python",
   "pygments_lexer": "ipython3",
   "version": "3.9.21"
  }
 },
 "nbformat": 4,
 "nbformat_minor": 5
}
